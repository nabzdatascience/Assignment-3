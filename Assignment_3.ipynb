{
 "cells": [
  {
   "cell_type": "markdown",
   "id": "b1f131ef",
   "metadata": {},
   "source": [
    "Ans 1: The advantages of functions in coding are as follows:\n",
    "         1. Reuse of code\n",
    "         2. Helps to divide a big problem into several simpler modules \n",
    "         3. Code becomes easily understandable.\n",
    "         4. Security-as we can hide information."
   ]
  },
  {
   "cell_type": "markdown",
   "id": "2ff2df02",
   "metadata": {},
   "source": [
    "Ans 2:The code in a function executes only when it is called. "
   ]
  },
  {
   "cell_type": "code",
   "execution_count": 1,
   "id": "25152132",
   "metadata": {},
   "outputs": [
    {
     "data": {
      "text/plain": [
       "'Hello'"
      ]
     },
     "execution_count": 1,
     "metadata": {},
     "output_type": "execute_result"
    }
   ],
   "source": [
    "#For Example:\n",
    "def print():\n",
    "    return(\"Hello\")\n",
    "print()\n",
    "    "
   ]
  },
  {
   "cell_type": "markdown",
   "id": "c4c89989",
   "metadata": {},
   "source": [
    "Ans 3: A function is created with the def keyword"
   ]
  },
  {
   "cell_type": "code",
   "execution_count": 3,
   "id": "f0b20603",
   "metadata": {},
   "outputs": [
    {
     "data": {
      "text/plain": [
       "10"
      ]
     },
     "execution_count": 3,
     "metadata": {},
     "output_type": "execute_result"
    }
   ],
   "source": [
    "#For example\n",
    "def add(a,b):\n",
    "    return(a+b)\n",
    "add(5,5)"
   ]
  },
  {
   "cell_type": "markdown",
   "id": "3cc22f7e",
   "metadata": {},
   "source": [
    "Ans 3:A function contains an instruction or a set of instructions to achieve a particular task. A function is created using the keyword def while a fuction call is the process of invoking that function so that it can be used to achieve the specific task for which the function has been written. A function cannot work without a function call. "
   ]
  },
  {
   "cell_type": "code",
   "execution_count": 7,
   "id": "e786a19a",
   "metadata": {},
   "outputs": [
    {
     "data": {
      "text/plain": [
       "10"
      ]
     },
     "execution_count": 7,
     "metadata": {},
     "output_type": "execute_result"
    }
   ],
   "source": [
    "#For example\n",
    "def add(a,b):#function\n",
    "    return(a+b)\n",
    "    \n",
    "add(5,5) # function call"
   ]
  },
  {
   "cell_type": "markdown",
   "id": "d17c40d6",
   "metadata": {},
   "source": [
    "Ans 5:There is one global scope in a Python program.Local scopes depends upon the number of functions defined within a program. There can be multiple local scopes."
   ]
  },
  {
   "cell_type": "markdown",
   "id": "d05d5af0",
   "metadata": {},
   "source": [
    "Ans6: When a function call returns, the variables in a local scope are destroyed."
   ]
  },
  {
   "cell_type": "markdown",
   "id": "0b6fb6a0",
   "metadata": {},
   "source": [
    "Ans 7:A return value is the result that is returned once the function completes it's execution.Yes, there must be a return value in an expression because the expression will always produce some value that must be returned once the function execution is complete."
   ]
  },
  {
   "cell_type": "markdown",
   "id": "315fa528",
   "metadata": {},
   "source": [
    "Ans 8: If a fuction has no return statement, then the return value is None."
   ]
  },
  {
   "cell_type": "markdown",
   "id": "47a82666",
   "metadata": {},
   "source": [
    "Ans 9: A global statement will make a function variable refer to the global variable."
   ]
  },
  {
   "cell_type": "markdown",
   "id": "87b72311",
   "metadata": {},
   "source": [
    "Ans 10:Datatype of None is NoneType"
   ]
  },
  {
   "cell_type": "markdown",
   "id": "e859a434",
   "metadata": {},
   "source": [
    "Ans 11: The import statement imports a module called areallyourpetsnamederic."
   ]
  },
  {
   "cell_type": "markdown",
   "id": "b632c082",
   "metadata": {},
   "source": [
    "Ans 12: The function can be called using spam.bacon()"
   ]
  },
  {
   "cell_type": "markdown",
   "id": "6ca5a291",
   "metadata": {},
   "source": [
    "Ans 13: I can place the statements that might cause an error in a try block."
   ]
  },
  {
   "cell_type": "markdown",
   "id": "84938260",
   "metadata": {},
   "source": [
    "Ans 14:The statements that might cause an error are placed in a try block while the statements that execute even if an error occurs, are placed in the except block."
   ]
  }
 ],
 "metadata": {
  "kernelspec": {
   "display_name": "Python 3 (ipykernel)",
   "language": "python",
   "name": "python3"
  },
  "language_info": {
   "codemirror_mode": {
    "name": "ipython",
    "version": 3
   },
   "file_extension": ".py",
   "mimetype": "text/x-python",
   "name": "python",
   "nbconvert_exporter": "python",
   "pygments_lexer": "ipython3",
   "version": "3.9.7"
  }
 },
 "nbformat": 4,
 "nbformat_minor": 5
}
